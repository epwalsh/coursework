{
 "cells": [
  {
   "cell_type": "code",
   "execution_count": 9,
   "metadata": {
    "collapsed": true
   },
   "outputs": [],
   "source": [
    "import numpy as np\n",
    "from scipy.misc import factorial"
   ]
  },
  {
   "cell_type": "code",
   "execution_count": 4,
   "metadata": {
    "collapsed": false
   },
   "outputs": [
    {
     "data": {
      "text/plain": [
       "-0.34546273070281147"
      ]
     },
     "execution_count": 4,
     "metadata": {},
     "output_type": "execute_result"
    }
   ],
   "source": [
    "def density_y(y, x, beta0, beta):\n",
    "    '''\n",
    "    Returns the joint density function of y given beta0\n",
    "    and beta1. y and x are arrays, beta0 and beta1 are scalars.\n",
    "    '''\n",
    "    l = np.exp(beta0 + beta1 * x)\n",
    "    return np.prod((l ** y) * np.exp(-l) / factorial(y))\n",
    "    \n",
    "\n",
    "def density_beta(beta, mu, tau2):\n",
    "    '''\n",
    "    Returns the marginal prior of beta given the sclars \n",
    "    mu and tau2.\n",
    "    '''\n",
    "    return 1 / ((2 * np.pi * tau) ** (1/2)) * np.exp(-((beta - mu) ** 2) / (2 * tau2))"
   ]
  },
  {
   "cell_type": "code",
   "execution_count": 14,
   "metadata": {
    "collapsed": false
   },
   "outputs": [],
   "source": [
    "y = np.array([1,2,3,4])\n",
    "l = 3"
   ]
  },
  {
   "cell_type": "code",
   "execution_count": 19,
   "metadata": {
    "collapsed": false
   },
   "outputs": [],
   "source": [
    "tau2 = 2\n",
    "mu = 0\n",
    "beta = 1"
   ]
  },
  {
   "cell_type": "code",
   "execution_count": 20,
   "metadata": {
    "collapsed": false
   },
   "outputs": [
    {
     "data": {
      "text/plain": [
       "0.36787944117144233"
      ]
     },
     "execution_count": 20,
     "metadata": {},
     "output_type": "execute_result"
    }
   ],
   "source": [
    "1 / ((2 * np.pi * tau) ** (1/2)) * np.exp(-((beta - mu) ** 2) / (2 * tau2))"
   ]
  },
  {
   "cell_type": "code",
   "execution_count": null,
   "metadata": {
    "collapsed": true
   },
   "outputs": [],
   "source": []
  }
 ],
 "metadata": {
  "kernelspec": {
   "display_name": "Python 2",
   "language": "python",
   "name": "python2"
  },
  "language_info": {
   "codemirror_mode": {
    "name": "ipython",
    "version": 2
   },
   "file_extension": ".py",
   "mimetype": "text/x-python",
   "name": "python",
   "nbconvert_exporter": "python",
   "pygments_lexer": "ipython2",
   "version": "2.7.12"
  }
 },
 "nbformat": 4,
 "nbformat_minor": 0
}
